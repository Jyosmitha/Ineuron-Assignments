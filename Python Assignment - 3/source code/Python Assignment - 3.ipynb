{
 "cells": [
  {
   "cell_type": "markdown",
   "metadata": {},
   "source": [
    "# Python Assignment -3"
   ]
  },
  {
   "cell_type": "markdown",
   "metadata": {},
   "source": [
    "#### 1.1 Write a Python Program to implement your own myreduce() function which works exactly  like Python's built-in function reduce() "
   ]
  },
  {
   "cell_type": "code",
   "execution_count": 1,
   "metadata": {},
   "outputs": [
    {
     "name": "stdout",
     "output_type": "stream",
     "text": [
      "Please enter a natural number:\n",
      "4\n"
     ]
    },
    {
     "data": {
      "text/plain": [
       "[1, 2, 3, 4]"
      ]
     },
     "execution_count": 1,
     "metadata": {},
     "output_type": "execute_result"
    }
   ],
   "source": [
    "input_num=int(input(\"Please enter a natural number:\\n\"))\n",
    "input_list_reduce=list(range(1,input_num+1))\n",
    "input_list_reduce"
   ]
  },
  {
   "cell_type": "code",
   "execution_count": 2,
   "metadata": {},
   "outputs": [],
   "source": [
    "def func_sum(input_list):\n",
    "    \"\"\"\n",
    "    Function to add numbers to demonstrate reduce function\n",
    "    \n",
    "    \"\"\"\n",
    "    result=0\n",
    "    \n",
    "    for i in input_list:\n",
    "        result=result+i\n",
    "        \n",
    "    return result\n",
    "\n",
    "def func_mul(input_list):\n",
    "    \"\"\"\n",
    "    Function to multiplicate numbers to demonstrate reduce function\n",
    "    \n",
    "    \"\"\"\n",
    "    result=1\n",
    "    \n",
    "    for i in input_list:\n",
    "        result=result*i\n",
    "        \n",
    "    return result"
   ]
  },
  {
   "cell_type": "code",
   "execution_count": 3,
   "metadata": {},
   "outputs": [],
   "source": [
    "def myreduce(any_func,input_list):\n",
    "    \"\"\"\n",
    "    Function to mimick python reduce function in the given range of numbers\n",
    "    Input: function and input of numbers as list\n",
    "    Output: Aggregated output\n",
    "    \n",
    "    \"\"\"\n",
    "    print(\"The list of numbers:\", input_list)\n",
    "          \n",
    "    result=any_func(input_list)\n",
    "    \n",
    "    return print(\"Reduced result:\", result)"
   ]
  },
  {
   "cell_type": "code",
   "execution_count": 4,
   "metadata": {},
   "outputs": [
    {
     "name": "stdout",
     "output_type": "stream",
     "text": [
      "The list of numbers: [1, 2, 3, 4]\n",
      "Reduced result: 10\n"
     ]
    }
   ],
   "source": [
    "#Sum operation using self defined my reduce\n",
    "myreduce(func_sum,input_list_reduce)"
   ]
  },
  {
   "cell_type": "code",
   "execution_count": 5,
   "metadata": {},
   "outputs": [
    {
     "name": "stdout",
     "output_type": "stream",
     "text": [
      "The list of numbers: [1, 2, 3, 4]\n",
      "Reduced result: 24\n"
     ]
    }
   ],
   "source": [
    "#Multiplication operation using self defined myreduce()\n",
    "myreduce(func_mul,input_list_reduce)"
   ]
  },
  {
   "cell_type": "markdown",
   "metadata": {},
   "source": [
    "#### 1.2 Write a Python program to implement your own myfilter() function which works exactly  like Python's built-in function filter() "
   ]
  },
  {
   "cell_type": "code",
   "execution_count": 6,
   "metadata": {},
   "outputs": [
    {
     "name": "stdout",
     "output_type": "stream",
     "text": [
      "Please enter a natural number:\n",
      "30\n"
     ]
    }
   ],
   "source": [
    "input_num=int(input(\"Please enter a natural number:\\n\"))\n",
    "input_num_filter=list(range(1,input_num+1))"
   ]
  },
  {
   "cell_type": "code",
   "execution_count": 7,
   "metadata": {},
   "outputs": [],
   "source": [
    "def multiple_3_and_2(input_list):\n",
    "    \"\"\"\n",
    "    Function to find multiples of 3 and 2 in the given range of numbers to demonstrate filter function\n",
    "    \n",
    "    \"\"\"\n",
    "    result_list=[]\n",
    "    for i in input_list:\n",
    "        if i % 3 == 0:\n",
    "            if i % 2 ==0 :\n",
    "                result_list.append(i)\n",
    "        else:\n",
    "            continue\n",
    "    return result_list"
   ]
  },
  {
   "cell_type": "code",
   "execution_count": 8,
   "metadata": {},
   "outputs": [],
   "source": [
    "def myfilter(any_func,input_list):\n",
    "    \"\"\"\n",
    "    Function to mimick python filter function in the given range of numbers\n",
    "    Input: function and input of numbers as list\n",
    "    Output: filtered list satisfying a condition\n",
    "    \n",
    "    \"\"\"\n",
    "    print(\"The list of numbers: \", input_list)\n",
    "          \n",
    "    result=any_func(input_list)\n",
    "    \n",
    "    return print(\"fltered result:\", result)\n",
    "    "
   ]
  },
  {
   "cell_type": "code",
   "execution_count": 9,
   "metadata": {},
   "outputs": [
    {
     "name": "stdout",
     "output_type": "stream",
     "text": [
      "The list of numbers:  [1, 2, 3, 4, 5, 6, 7, 8, 9, 10, 11, 12, 13, 14, 15, 16, 17, 18, 19, 20, 21, 22, 23, 24, 25, 26, 27, 28, 29, 30]\n",
      "fltered result: [6, 12, 18, 24, 30]\n"
     ]
    }
   ],
   "source": [
    "#Division operation using self defined myfilter()\n",
    "myfilter(multiple_3_and_2,input_num_filter)"
   ]
  },
  {
   "cell_type": "markdown",
   "metadata": {},
   "source": [
    "#### 2. Implement List comprehensions to produce the following lists.  \n",
    "#### Write List comprehensions to produce the following Lists \n",
    "#### ['A', 'C', 'A', 'D', 'G', 'I', ’L’, ‘ D’] \n",
    "#### ['x', 'xx', 'xxx', 'xxxx', 'y', 'yy', 'yyy', 'yyyy', 'z', 'zz', 'zzz', 'zzzz']  \n",
    "#### ['x', 'y', 'z', 'xx', 'yy', 'zz', 'xxx', 'yyy', 'zzz', 'xxxx', 'yyyy', 'zzzz']  \n",
    "#### [[2], [3], [4], [3], [4], [5], [4], [5], [6]]\n",
    "#### [[2, 3, 4, 5], [3, 4, 5, 6], [4, 5, 6, 7], [5, 6, 7, 8]] \n",
    "#### [(1, 1), (2, 1), (3, 1), (1, 2), (2, 2), (3, 2), (1, 3), (2, 3), (3, 3)]"
   ]
  },
  {
   "cell_type": "code",
   "execution_count": 10,
   "metadata": {},
   "outputs": [
    {
     "data": {
      "text/plain": [
       "['A', 'C', 'A', 'D', 'G', 'L', 'I', 'D']"
      ]
     },
     "execution_count": 10,
     "metadata": {},
     "output_type": "execute_result"
    }
   ],
   "source": [
    "string_name='ACADGLID'\n",
    "[i for  i in string_name]"
   ]
  },
  {
   "cell_type": "code",
   "execution_count": 11,
   "metadata": {},
   "outputs": [
    {
     "data": {
      "text/plain": [
       "['x', 'y', 'z', 'xx', 'yy', 'zz', 'xxx', 'yyy', 'zzz', 'xxxx', 'yyyy', 'zzzz']"
      ]
     },
     "execution_count": 11,
     "metadata": {},
     "output_type": "execute_result"
    }
   ],
   "source": [
    "input_string='xyz'\n",
    "[i*j for j in list(range(1,5)) for i in input_string ]"
   ]
  },
  {
   "cell_type": "code",
   "execution_count": 12,
   "metadata": {},
   "outputs": [
    {
     "data": {
      "text/plain": [
       "['x', 'xx', 'xxx', 'xxxx', 'y', 'yy', 'yyy', 'yyyy', 'z', 'zz', 'zzz', 'zzzz']"
      ]
     },
     "execution_count": 12,
     "metadata": {},
     "output_type": "execute_result"
    }
   ],
   "source": [
    "input_string2='xyz'\n",
    "[i*j for i in input_string for j in list(range(1,5))]"
   ]
  },
  {
   "cell_type": "code",
   "execution_count": 13,
   "metadata": {},
   "outputs": [
    {
     "data": {
      "text/plain": [
       "[[2], [3], [4], [3], [4], [5], [4], [5], [6]]"
      ]
     },
     "execution_count": 13,
     "metadata": {},
     "output_type": "execute_result"
    }
   ],
   "source": [
    "number=[2,3,4]\n",
    "[[i+j] for i in number for j in range(0,3)]"
   ]
  },
  {
   "cell_type": "code",
   "execution_count": 14,
   "metadata": {},
   "outputs": [
    {
     "data": {
      "text/plain": [
       "[[2, 3, 4, 5], [3, 4, 5, 6], [4, 5, 6, 7], [5, 6, 7, 8]]"
      ]
     },
     "execution_count": 14,
     "metadata": {},
     "output_type": "execute_result"
    }
   ],
   "source": [
    "number=[2,3,4,5]\n",
    "[[i+j for j in range(0,4)] for i in number ]"
   ]
  },
  {
   "cell_type": "code",
   "execution_count": 15,
   "metadata": {},
   "outputs": [
    {
     "data": {
      "text/plain": [
       "[(1, 1), (2, 1), (3, 1), (1, 2), (2, 2), (3, 2), (1, 3), (2, 3), (3, 3)]"
      ]
     },
     "execution_count": 15,
     "metadata": {},
     "output_type": "execute_result"
    }
   ],
   "source": [
    "number=[1,2,3]\n",
    "[(b,a) for a in number for b in number]"
   ]
  },
  {
   "cell_type": "code",
   "execution_count": null,
   "metadata": {},
   "outputs": [],
   "source": []
  }
 ],
 "metadata": {
  "kernelspec": {
   "display_name": "Python 3",
   "language": "python",
   "name": "python3"
  },
  "language_info": {
   "codemirror_mode": {
    "name": "ipython",
    "version": 3
   },
   "file_extension": ".py",
   "mimetype": "text/x-python",
   "name": "python",
   "nbconvert_exporter": "python",
   "pygments_lexer": "ipython3",
   "version": "3.8.5"
  }
 },
 "nbformat": 4,
 "nbformat_minor": 4
}
