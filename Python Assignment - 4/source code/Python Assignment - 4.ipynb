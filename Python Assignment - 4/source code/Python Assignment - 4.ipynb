{
 "cells": [
  {
   "cell_type": "markdown",
   "metadata": {},
   "source": [
    "# Python Assignment 4"
   ]
  },
  {
   "cell_type": "markdown",
   "metadata": {},
   "source": [
    "### 1.1 Write a Python Program(with class concepts) to find the area of the triangle using the below formula.\n",
    "area = (s(s-a)(s-b)*(s-c)) ** 0.5 Function to take the length of the sides of triangle from user should be defined in the parent class and function to calculate the area should be defined in subclass."
   ]
  },
  {
   "cell_type": "code",
   "execution_count": 1,
   "metadata": {},
   "outputs": [
    {
     "name": "stdout",
     "output_type": "stream",
     "text": [
      "enter the length of side 1: 10\n",
      "enter the length of side 2: 10\n",
      "enter the length of side 3: 10\n",
      "area : 43.30127018922193\n"
     ]
    }
   ],
   "source": [
    "class input_details:\n",
    "        \n",
    "    def __init__(self,a,b,c):\n",
    "        self.a = float(a)\n",
    "        self.b = float(b)\n",
    "        self.c = float(c)\n",
    "a=int(input(\"enter the length of side 1: \"))\n",
    "b=int(input(\"enter the length of side 2: \"))\n",
    "c=int(input(\"enter the length of side 3: \"))\n",
    "\n",
    "class triangle(input_details):\n",
    "    def __init__(self,a,b,c):\n",
    "        super().__init__(a,b,c)\n",
    "\n",
    "    def get_area(self):\n",
    "        s = (a + b + c) / 2\n",
    "        return (s*(s-a)*(s-b)*(s-c)) ** 0.5        \n",
    "\n",
    "t = triangle(a,b,c)\n",
    "print(\"area : {}\".format(t.get_area()))"
   ]
  },
  {
   "cell_type": "markdown",
   "metadata": {},
   "source": [
    "#### 1.2 Write a function filter_long_words() that takes a list of words and an integer n and returns the list of words that are longer than n."
   ]
  },
  {
   "cell_type": "code",
   "execution_count": 2,
   "metadata": {},
   "outputs": [],
   "source": [
    "word_list=[\"this\",\"is\",\"the\",\"example\"]\n",
    "num=3"
   ]
  },
  {
   "cell_type": "code",
   "execution_count": 3,
   "metadata": {},
   "outputs": [],
   "source": [
    "def filter_long_words(num,word_list):\n",
    "    \"\"\"\n",
    "    Function: To check list of words and an integer n and returns the list of words that are longer than n\n",
    "    \n",
    "    Input: list of words and number\n",
    "    \"\"\"\n",
    "    result=list(filter(lambda x : len(x) > num , word_list))\n",
    "    \n",
    "    return result"
   ]
  },
  {
   "cell_type": "code",
   "execution_count": 4,
   "metadata": {},
   "outputs": [
    {
     "data": {
      "text/plain": [
       "['this', 'example']"
      ]
     },
     "execution_count": 4,
     "metadata": {},
     "output_type": "execute_result"
    }
   ],
   "source": [
    "filter_long_words(num,word_list)"
   ]
  },
  {
   "cell_type": "markdown",
   "metadata": {},
   "source": [
    "#### 2.1 Write a Python program using function concept that maps list of words into a list of integers representing the lengths of the corresponding words.\n",
    "Hint: If a list [ ab,cde,erty] is passed on to the python function output should come as [2,3,4] Here 2,3 and 4 are the lengths of the words in the list."
   ]
  },
  {
   "cell_type": "code",
   "execution_count": 5,
   "metadata": {},
   "outputs": [
    {
     "data": {
      "text/plain": [
       "['ab', 'cde', 'erty']"
      ]
     },
     "execution_count": 5,
     "metadata": {},
     "output_type": "execute_result"
    }
   ],
   "source": [
    "input_list=['ab','cde','erty']\n",
    "input_list"
   ]
  },
  {
   "cell_type": "code",
   "execution_count": 6,
   "metadata": {},
   "outputs": [],
   "source": [
    "len_list=[]\n",
    "\n",
    "def charLength(input_list):\n",
    "    \"\"\"\n",
    "    Function: To check the length of characters in the list\n",
    "    \n",
    "    Input: list of characters\n",
    "    \"\"\"\n",
    "    len_list=list(map(len ,input_list))\n",
    "    \n",
    "    return len_list"
   ]
  },
  {
   "cell_type": "code",
   "execution_count": 7,
   "metadata": {},
   "outputs": [
    {
     "data": {
      "text/plain": [
       "[2, 3, 4]"
      ]
     },
     "execution_count": 7,
     "metadata": {},
     "output_type": "execute_result"
    }
   ],
   "source": [
    "charLength(input_list)"
   ]
  },
  {
   "cell_type": "markdown",
   "metadata": {},
   "source": [
    "#### 2.2 Write a Python function which takes a character (i.e. a string of length 1) and returns True if it is a vowel, False otherwise"
   ]
  },
  {
   "cell_type": "code",
   "execution_count": 8,
   "metadata": {},
   "outputs": [],
   "source": [
    "vowel_list=['A','E','I','O','U']\n",
    "\n",
    "def vowel_func(char):\n",
    "    \"\"\"\n",
    "    Function: To check if entered character is vowel or not \n",
    "    \n",
    "    Input: Character of length 1\n",
    "    \"\"\"\n",
    "    bool=char.upper() in vowel_list\n",
    "    \n",
    "    return bool"
   ]
  },
  {
   "cell_type": "code",
   "execution_count": 9,
   "metadata": {},
   "outputs": [
    {
     "name": "stdout",
     "output_type": "stream",
     "text": [
      "Please enter a Char of length 1:\n",
      "a\n",
      "a\n"
     ]
    }
   ],
   "source": [
    "#Asks for user input until character of length 1 is correctly given\n",
    "\n",
    "while True:\n",
    "    char=input(\"Please enter a Char of length 1:\\n\")\n",
    "    if len(char)==1 & char.isalpha() :\n",
    "        print(char)\n",
    "        break  \n",
    "    else:\n",
    "        print(\"Entered Char is not correct. Enter again\")\n",
    "        continue"
   ]
  },
  {
   "cell_type": "code",
   "execution_count": 10,
   "metadata": {},
   "outputs": [
    {
     "data": {
      "text/plain": [
       "True"
      ]
     },
     "execution_count": 10,
     "metadata": {},
     "output_type": "execute_result"
    }
   ],
   "source": [
    "vowel_func(char)"
   ]
  },
  {
   "cell_type": "code",
   "execution_count": 11,
   "metadata": {},
   "outputs": [
    {
     "name": "stdout",
     "output_type": "stream",
     "text": [
      "Please enter a Char of length 1:\n",
      "b\n",
      "b\n"
     ]
    }
   ],
   "source": [
    "while True:\n",
    "    char=input(\"Please enter a Char of length 1:\\n\")\n",
    "    if len(char)==1 & char.isalpha() :\n",
    "        print(char)\n",
    "        break  \n",
    "    else:\n",
    "        print(\"Entered Char is not correct. Enter again\")\n",
    "        continue"
   ]
  },
  {
   "cell_type": "code",
   "execution_count": 12,
   "metadata": {},
   "outputs": [
    {
     "data": {
      "text/plain": [
       "False"
      ]
     },
     "execution_count": 12,
     "metadata": {},
     "output_type": "execute_result"
    }
   ],
   "source": [
    "vowel_func(char)"
   ]
  }
 ],
 "metadata": {
  "kernelspec": {
   "display_name": "Python 3",
   "language": "python",
   "name": "python3"
  },
  "language_info": {
   "codemirror_mode": {
    "name": "ipython",
    "version": 3
   },
   "file_extension": ".py",
   "mimetype": "text/x-python",
   "name": "python",
   "nbconvert_exporter": "python",
   "pygments_lexer": "ipython3",
   "version": "3.8.5"
  }
 },
 "nbformat": 4,
 "nbformat_minor": 4
}
